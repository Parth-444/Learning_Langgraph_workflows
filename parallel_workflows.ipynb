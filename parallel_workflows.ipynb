{
 "cells": [
  {
   "cell_type": "code",
   "execution_count": 2,
   "id": "bcfc1662",
   "metadata": {},
   "outputs": [],
   "source": [
    "from langchain_google_genai import ChatGoogleGenerativeAI\n",
    "from langgraph.graph import StateGraph, START, END\n",
    "from typing import TypedDict\n",
    "import os"
   ]
  },
  {
   "cell_type": "code",
   "execution_count": 3,
   "id": "41a63d45",
   "metadata": {},
   "outputs": [],
   "source": [
    "key = os.getenv(\"GOOGLE_API_KEY\")\n",
    "llm = ChatGoogleGenerativeAI(model=\"gemini-2.5-flash\", api_key=key)"
   ]
  },
  {
   "cell_type": "code",
   "execution_count": 4,
   "id": "356646a7",
   "metadata": {},
   "outputs": [],
   "source": [
    "class MainState(TypedDict):\n",
    "    topic: str\n",
    "    joke: str\n",
    "    poem: str\n",
    "    facts: str\n"
   ]
  },
  {
   "cell_type": "code",
   "execution_count": 7,
   "id": "9b267c83",
   "metadata": {},
   "outputs": [],
   "source": [
    "def llm_call1(state:MainState):\n",
    "    prompt = f\"You are a standup comedian that can create jokes about any topic, write some jokes about this topic: {state['topic']}\"\n",
    "    response = llm.invoke(prompt)\n",
    "    return {\"joke\": response.content}\n",
    "\n",
    "def llm_call2(state:MainState):\n",
    "    prompt = f\"You are a worldclass poet, Write a meaningful but deep poem on the topic: {state['topic']}\"\n",
    "    response = llm.invoke(prompt)\n",
    "    return {\"poem\": response.content}\n",
    "\n",
    "def llm_call3(state:MainState):\n",
    "    prompt = f\"You are to write some facts that are highly crazy about the topic: {state['topic']}\"\n",
    "    response = llm.invoke(prompt)\n",
    "    return {\"facts\": response.content}\n",
    "\n",
    "def aggregator(state:MainState):\n",
    "    result = f\"Here are the jokes, a poem and some facts about your topic {state[\"topic\"]}\"\n",
    "    result += f\"Jokes:\\n {state['joke']}\"\n",
    "    result += f\"Poem:\\n {state['poem']}\"\n",
    "    result += f\"Facts:\\n {state['facts']}\"\n"
   ]
  },
  {
   "cell_type": "code",
   "execution_count": 11,
   "id": "1d295fca",
   "metadata": {},
   "outputs": [
    {
     "data": {
      "image/png": "[encoded data removed]",
      "text/plain": [
       "<langgraph.graph.state.CompiledStateGraph object at 0x0000020C72C13750>"
      ]
     },
     "execution_count": 11,
     "metadata": {},
     "output_type": "execute_result"
    }
   ],
   "source": [
    "graph_builder = StateGraph(MainState)\n",
    "\n",
    "graph_builder.add_node(\"llm_call1\", llm_call1)\n",
    "graph_builder.add_node(\"llm_call2\", llm_call2)\n",
    "graph_builder.add_node(\"llm_call3\", llm_call3)\n",
    "graph_builder.add_node(\"aggregator\", aggregator)\n",
    "\n",
    "\n",
    "graph_builder.add_edge(START, \"llm_call1\")\n",
    "graph_builder.add_edge(START, \"llm_call2\")\n",
    "graph_builder.add_edge(START, \"llm_call3\")\n",
    "\n",
    "graph_builder.add_edge(\"llm_call1\", \"aggregator\")\n",
    "graph_builder.add_edge(\"llm_call2\", \"aggregator\")\n",
    "graph_builder.add_edge(\"llm_call3\", \"aggregator\")\n",
    "\n",
    "graph_builder.add_edge(\"aggregator\", END)\n",
    "\n",
    "workflow = graph_builder.compile()\n",
    "workflow"
   ]
  },
  {
   "cell_type": "code",
   "execution_count": 13,
   "id": "aae1c1d5",
   "metadata": {},
   "outputs": [
    {
     "data": {
      "text/plain": [
       "{'topic': 'The Topic is The Weeknd',\n",
       " 'joke': 'Alright, alright, thank you, thank you! We\\'re talking about The Weeknd tonight. Or as I like to call him, \"The Guy Who Makes Me Feel Way Cooler And Also Way More Depressed Than I Actually Am.\"\\n\\n*   **First off, his name!** \"The Weeknd.\" It\\'s the only artist whose music makes me feel like I need to clock out early from my job. Like, \"Sorry boss, The Weeknd’s on, I’ve gotta go emotionally prepare for Monday.\" And does he get *paid* for the weekend? Or is he just, like, perpetually waiting for Monday to release a new single about how sad he is it’s not the weekend anymore?\\n\\n*   **His music…** it’s like elevator music for your existential dread. You know? You get in, you’re just going up to the 10th floor, but suddenly you’re contemplating all your life choices and whether you should have called that ex. He writes songs that make you want to cry, but also do a really cool slow-motion walk away from an explosion. It\\'s confusing.\\n\\n*   **\"Can\\'t Feel My Face.\"** I heard that for the first time, and my first thought wasn\\'t, \"Oh, this is a banger about drug use!\" My first thought was, \"Man, did he just leave the dentist? Did he get some really good Novocaine? Is this a PSA?\" Because I can\\'t feel *my* face after a long flight, but I don\\'t write a Grammy-winning song about it. I just complain to the flight attendant.\\n\\n*   **And then the *After Hours* era,** with the bandages and the bruised face. I was like, \"Is he method acting for a boxing movie? Or did he just try to assemble IKEA furniture by himself?\" Because that\\'s what *my* face looks like after IKEA.\\n\\n*   **Then the Super Bowl halftime show!** He’s in that red blazer, running through a maze, looking confused. I thought he was just trying to find the bathroom in a really fancy hotel. \"Excuse me, is this the way to the complimentary continental breakfast?\"\\n\\n*   **And then *The Idol*.** Oh, *The Idol*. Look, I love The Weeknd\\'s music. His acting… let’s just say he really committed to the role of ‘guy who makes you uncomfortable.’ He played that part *perfectly*. It was like watching a six-hour music video where everyone makes bad choices. And not in a fun, pop-music way. More in a \"I need an adult\" way.\\n\\n*   **Imagine dating The Weeknd.** Every conversation is like a deep cut from his next album. \"Babe, are you okay?\" \"No, the shadows consume me, and the void whispers my name.\" \"Okay, so you want pizza or not?\"\\n\\n*   **His voice is so smooth.** It’s like liquid silk. I bet he could read the ingredients off a shampoo bottle and make it sound like the most profound, heartbreaking poem you’ve ever heard. \"Water… Sodium Laureth Sulfate… cocamidopropyl betaine… *[falsetto]* …and my soul is forever lost in the lather…\"\\n\\n*   **But hey, you can\\'t deny the man\\'s got bangers.** Even if they make you question all your life choices. Thank you, I\\'m [Your Name/Comedian\\'s Name]! Goodnight!',\n",
       " 'poem': \"From Toronto's haze, a whisper rose,\\nNot a sunlit tune, but night's own prose.\\nAbel, then a ghost, in shadows spun,\\nThe Weeknd born, when day was done.\\nA falsetto silk, a drug-laced sigh,\\nFor those who lived beneath a troubled sky.\\n\\nHe painted lust in hues of deep regret,\\nA truth too raw, we couldn't quite forget.\\nOf empty rooms and fleeting, whispered vows,\\nOf chemical dreams and clouded brows.\\nThe city's pulse, a neon, bleeding heart,\\nWhere innocence and darkness tore apart.\\n\\nThen came the light, or so it seemed to gleam,\\nA pop dominion, born of a darker dream.\\nThe synths ablaze, the '80s beat returned,\\nA cinematic stage, where lessons burned.\\nFrom indie cult to global, shining star,\\nYet still, a melancholic, distant scar.\\n\\nThe broken nose, the bandages he wore,\\nA performance art, to open every door.\\nHe played the villain, lost in neon haze,\\nThrough purgatorial, radio-lit days.\\nA search for solace, in the blinding gleam,\\nA soul laid bare, within a vivid dream.\\n\\nBut through it all, the voice, a constant flame,\\nWhispering Abel, shouting out his name.\\nA velvet lament, soaring, pure, and high,\\nReflecting every tear, beneath the sky.\\nIt builds cathedrals in the listener's mind,\\nA sonic tapestry, uniquely intertwined.\\n\\nHe is the night, the dawn, the space between,\\nThe hedonist, the lost, the king, the queen.\\nBeyond the fleeting joy of Friday's end,\\nA chronicler of souls, a timeless friend.\\nThe Weeknd stands, a legend, dark and bright,\\nA haunting echo in the modern night.\",\n",
       " 'facts': 'Okay, prepare yourself, because these \"facts\" about The Weeknd are so wild, they might just unravel your perception of reality. Remember, these are for *entertainment* and are completely, utterly, delightfully made up.\\n\\n---\\n\\n**Seven Highly Crazy Facts About The Weeknd:**\\n\\n1.  **The \"e\" in \"Weeknd\" was removed because Abel once accidentally deleted it from the fabric of reality while trying to erase a bad memory, causing a brief, global temporal anomaly where every weekend felt like a Monday for three hours in 2010.** Scientists are still recovering the lost \"e.\"\\n\\n2.  **His signature falsetto isn\\'t just vocal talent; it\\'s a sonic frequency designed to subtly recalibrate the melancholic particles in the atmosphere.** This ensures every listener feels just the right amount of wistful longing, regardless of their current mood, thus maintaining the universe\\'s emotional equilibrium.\\n\\n3.  **Every red suit he wore during the *After Hours* era was not just fashion; it was a highly sophisticated emotional sponge.** These suits were designed to absorb the collective heartbreak and existential dread of his audience, preventing a global melancholic implosion. He then processes this absorbed despair into new synth-pop anthems.\\n\\n4.  **Abel Tesfaye doesn\\'t actually *sleep*.** Instead, he enters a 48-hour \"creative stasis\" every Friday night, during which his subconscious mind travels through alternate dimensions, gathering the raw, chaotic emotions that inspire his darkest lyrics and most unsettling music videos. This is why he\\'s \"The Weeknd.\"\\n\\n5.  **The diamond-encrusted gloves he wore during the *Starboy* era weren\\'t just bling; they were advanced energy conductors.** These gloves allowed him to convert the pure, unadulterated hype generated by his fans into tangible assets like luxury cars and private jets. This is why his net worth fluctuates with the global fan sentiment.\\n\\n6.  **The entire *Dawn FM* album was not recorded in a studio, but broadcast directly from an interdimensional radio station located just beyond the veil of reality.** Abel serves as the primary DJ for souls in transit, providing guidance through existential bops before their final destination. He just happens to simulcast it to Earth.\\n\\n7.  **His tears, when shed, do not evaporate.** Instead, they crystallize into tiny, perfectly formed, pitch-black vinyl records, each containing a single, previously unheard snippet of a future chart-topping hit. Collecting them is a secret society\\'s most coveted and dangerous pursuit.\\n\\n---\\n\\nRemember to keep these under wraps... the universe isn\\'t ready for the truth.'}"
      ]
     },
     "execution_count": 13,
     "metadata": {},
     "output_type": "execute_result"
    }
   ],
   "source": [
    "initital_state = {\"topic\": \"The Topic is The Weeknd\"}    \n",
    "workflow.invoke(initital_state)"
   ]
  },
  {
   "cell_type": "code",
   "execution_count": null,
   "id": "e2ccf804",
   "metadata": {},
   "outputs": [],
   "source": []
  }
 ],
 "metadata": {
  "kernelspec": {
   "display_name": "Python 3",
   "language": "python",
   "name": "python3"
  },
  "language_info": {
   "codemirror_mode": {
    "name": "ipython",
    "version": 3
   },
   "file_extension": ".py",
   "mimetype": "text/x-python",
   "name": "python",
   "nbconvert_exporter": "python",
   "pygments_lexer": "ipython3",
   "version": "3.13.3"
  }
 },
 "nbformat": 4,
 "nbformat_minor": 5
}
