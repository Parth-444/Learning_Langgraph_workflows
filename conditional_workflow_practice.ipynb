{
 "cells": [
  {
   "cell_type": "code",
   "execution_count": 12,
   "id": "3608a1a6",
   "metadata": {},
   "outputs": [],
   "source": [
    "from langchain_google_genai import ChatGoogleGenerativeAI\n",
    "from langgraph.graph import StateGraph, START, END\n",
    "from typing import TypedDict, Literal\n",
    "from pydantic import BaseModel, Field\n",
    "import os"
   ]
  },
  {
   "cell_type": "code",
   "execution_count": 13,
   "id": "1ec24f5b",
   "metadata": {},
   "outputs": [],
   "source": [
    "key = os.getenv(\"GOOGLE_API_KEY\")\n",
    "llm = ChatGoogleGenerativeAI(model=\"gemini-2.5-flash\", api_key=key)"
   ]
  },
  {
   "cell_type": "code",
   "execution_count": 14,
   "id": "c4ecf17a",
   "metadata": {},
   "outputs": [],
   "source": [
    "class QueryType(BaseModel):\n",
    "    query_type: Literal[\"recent_news\", \"detailed_report\", \"unsure\"] = Field(description=\"Categorises user's query\")"
   ]
  },
  {
   "cell_type": "code",
   "execution_count": 15,
   "id": "2a7212e0",
   "metadata": {},
   "outputs": [],
   "source": [
    "structured_model1 = llm.with_structured_output(QueryType)"
   ]
  },
  {
   "cell_type": "code",
   "execution_count": 16,
   "id": "88983041",
   "metadata": {},
   "outputs": [],
   "source": [
    "class ConditionState(TypedDict):\n",
    "    user_query: str\n",
    "    query_type: Literal[\"recent_news\", \"detailed_report\", \"unsure\"]\n",
    "    fetched_news: str\n",
    "    report_from_llm: str\n",
    "    report_from_news: str\n",
    "    unsure: str"
   ]
  },
  {
   "cell_type": "code",
   "execution_count": 27,
   "id": "2fd73e3d",
   "metadata": {},
   "outputs": [],
   "source": [
    "def categorise_query(state:ConditionState):\n",
    "    prompt = f\"Categorise the user's query: {state['user_query']}\"\n",
    "    query_type = structured_model1.invoke(prompt).query_type\n",
    "    return {\"query_type\": query_type}\n",
    "\n",
    "def check_category(state: ConditionState) -> Literal[\"recent_news\", \"detailed_report\", \"unsure\"]:\n",
    "    if state['query_type'] == \"recent_news\":\n",
    "        return \"recent_news\"\n",
    "    elif state['query_type'] == \"detailed_report\":\n",
    "        return \"detailed_report\"\n",
    "    else:\n",
    "        return \"unsure\"\n",
    "    \n",
    "def recent_news(state:ConditionState):\n",
    "    return {\"fetched_news\": \"Jeffrey Epstein shot himself\"}\n",
    "\n",
    "def from_news(state:ConditionState):\n",
    "    prompt = f\"From the fetched news which is: \\n {state['fetched_news']}\\n generate a report\"   \n",
    "    report_from_news = llm.invoke(prompt).content\n",
    "    return {\"report_from_news\": report_from_news}\n",
    "\n",
    "def detailed_report(state:ConditionState):\n",
    "    prompt = f\"Using the topic provided by the user in this user query:\\n {state['user_query']}\\n Generate a detailed report on it.\"\n",
    "    report_from_llm = llm.invoke(prompt).content\n",
    "    return {\"report_from_llm\": report_from_llm}\n",
    "\n",
    "def unsure(state:ConditionState):\n",
    "    prompt = f\"Apologise to the user for not able to able their query.\"\n",
    "    unsure_response = llm.invoke(prompt).content\n",
    "    return {\"unsure\": unsure_response}\n",
    "\n"
   ]
  },
  {
   "cell_type": "code",
   "execution_count": 29,
   "id": "51930ba1",
   "metadata": {},
   "outputs": [
    {
     "data": {
      "image/png": "[encoded data removed]",
      "text/plain": [
       "<langgraph.graph.state.CompiledStateGraph object at 0x000002213D859590>"
      ]
     },
     "execution_count": 29,
     "metadata": {},
     "output_type": "execute_result"
    }
   ],
   "source": [
    "graph_builder = StateGraph(ConditionState)\n",
    "\n",
    "graph_builder.add_node(\"categorise_query\", categorise_query)\n",
    "graph_builder.add_node(\"recent_news\", recent_news)\n",
    "graph_builder.add_node(\"from_news\", from_news)\n",
    "graph_builder.add_node(\"detailed_report\", detailed_report)\n",
    "graph_builder.add_node(\"unsure\", unsure)\n",
    "\n",
    "\n",
    "graph_builder.add_edge(START, \"categorise_query\")\n",
    "graph_builder.add_conditional_edges(\"categorise_query\", check_category)\n",
    "graph_builder.add_edge(\"recent_news\", \"from_news\")\n",
    "graph_builder.add_edge(\"from_news\", END)\n",
    "graph_builder.add_edge(\"detailed_report\", END)\n",
    "graph_builder.add_edge(\"unsure\", END)\n",
    "\n",
    "workflow = graph_builder.compile()\n",
    "workflow"
   ]
  },
  {
   "cell_type": "code",
   "execution_count": 30,
   "id": "1bd4e229",
   "metadata": {},
   "outputs": [
    {
     "data": {
      "text/plain": [
       "{'user_query': 'unga boonga?',\n",
       " 'query_type': 'unsure',\n",
       " 'unsure': 'Okay, here are a few options for apologizing, choose the one that best fits the situation:\\n\\n**Option 1 (General & Concise):**\\n\\n> I apologize, but I\\'m unable to assist with your query at this time. Is there anything else I can help you with?\\n\\n**Option 2 (Slightly more detailed, implying a limitation):**\\n\\n> I\\'m sorry, but I wasn\\'t able to process or respond to your request. Could you please rephrase it or provide more details?\\n\\n**Option 3 (Acknowledging a potential lack of information/understanding):**\\n\\n> My apologies, but I\\'m currently unable to address your query. I may not have enough information or understand the request fully.\\n\\n**Option 4 (If it\\'s about a specific type of query you can\\'t handle):**\\n\\n> I apologize, but I\\'m not equipped to handle that type of query at the moment.\\n\\n---\\n\\n**When you use it, replace \"their query\" with \"your query\" as you\\'ll be addressing the user directly.**'}"
      ]
     },
     "execution_count": 30,
     "metadata": {},
     "output_type": "execute_result"
    }
   ],
   "source": [
    "initial_state = {\"user_query\": \"unga boonga?\"}\n",
    "workflow.invoke(initial_state)"
   ]
  },
  {
   "cell_type": "code",
   "execution_count": null,
   "id": "af717f86",
   "metadata": {},
   "outputs": [],
   "source": []
  }
 ],
 "metadata": {
  "kernelspec": {
   "display_name": "Python 3",
   "language": "python",
   "name": "python3"
  },
  "language_info": {
   "codemirror_mode": {
    "name": "ipython",
    "version": 3
   },
   "file_extension": ".py",
   "mimetype": "text/x-python",
   "name": "python",
   "nbconvert_exporter": "python",
   "pygments_lexer": "ipython3",
   "version": "3.13.3"
  }
 },
 "nbformat": 4,
 "nbformat_minor": 5
}
